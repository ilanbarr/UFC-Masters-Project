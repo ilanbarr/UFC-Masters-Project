{
 "cells": [
  {
   "cell_type": "code",
   "execution_count": 5,
   "id": "cb93c4c1-0dfb-41c9-bf7f-6ff11b304403",
   "metadata": {
    "tags": []
   },
   "outputs": [
    {
     "data": {
      "text/plain": [
       "0.67417"
      ]
     },
     "execution_count": 5,
     "metadata": {},
     "output_type": "execute_result"
    }
   ],
   "source": [
    "import numpy as np\n",
    "\n",
    "# Parameters\n",
    "p_success = 0.7  # Probability of success in a single trial\n",
    "n_trials = 27    # Total number of trials\n",
    "n_consecutive_successes = 10  # Number of consecutive successes of interest\n",
    "n_simulations = 100000  # Number of Monte Carlo simulations\n",
    "\n",
    "# Simulation\n",
    "success_streaks = 0  # Counter for simulations where at least one streak of 10 consecutive successes occurs\n",
    "\n",
    "for _ in range(n_simulations):\n",
    "    # Simulate a sequence of trials for each simulation\n",
    "    trials = np.random.rand(n_trials) < p_success\n",
    "    # Check for at least one streak of 10 consecutive successes\n",
    "    for start in range(n_trials - n_consecutive_successes + 1):\n",
    "        if np.all(trials[start:start + n_consecutive_successes]):\n",
    "            success_streaks += 1\n",
    "            break  # Stop checking this sequence once a streak is found\n",
    "\n",
    "# Calculate the probability of at least one streak of 10 consecutive successes\n",
    "probability = success_streaks / n_simulations\n",
    "probability\n"
   ]
  },
  {
   "cell_type": "code",
   "execution_count": null,
   "id": "3df6f2de-e228-434c-9f2a-fb75c461d21d",
   "metadata": {},
   "outputs": [],
   "source": []
  }
 ],
 "metadata": {
  "kernelspec": {
   "display_name": "Python 3 (ipykernel)",
   "language": "python",
   "name": "python3"
  },
  "language_info": {
   "codemirror_mode": {
    "name": "ipython",
    "version": 3
   },
   "file_extension": ".py",
   "mimetype": "text/x-python",
   "name": "python",
   "nbconvert_exporter": "python",
   "pygments_lexer": "ipython3",
   "version": "3.11.5"
  }
 },
 "nbformat": 4,
 "nbformat_minor": 5
}
