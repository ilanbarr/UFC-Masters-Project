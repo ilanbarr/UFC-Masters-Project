{
 "cells": [
  {
   "cell_type": "code",
   "execution_count": 8,
   "id": "af523bab-7e48-4499-ab96-416afed2a5e8",
   "metadata": {},
   "outputs": [],
   "source": [
    "import pandas as pd\n",
    "import requests\n",
    "from bs4 import BeautifulSoup"
   ]
  },
  {
   "cell_type": "code",
   "execution_count": 9,
   "id": "3680bda5-0382-4aa9-b024-f96793fe5223",
   "metadata": {
    "tags": []
   },
   "outputs": [],
   "source": [
    "URLS = pd.read_csv('all_fight_decision_links.csv')"
   ]
  },
  {
   "cell_type": "code",
   "execution_count": null,
   "id": "72715e2b-fab8-45b1-8bdd-746ff7208835",
   "metadata": {
    "tags": []
   },
   "outputs": [],
   "source": []
  },
  {
   "cell_type": "code",
   "execution_count": 18,
   "id": "4a5a668e-733b-47eb-8c27-b232c23a7fb3",
   "metadata": {
    "tags": []
   },
   "outputs": [],
   "source": [
    "def grab_info_from_link(url):\n",
    "    response = requests.get(url)\n",
    "    soup = BeautifulSoup(response.content, 'html.parser')\n",
    "\n",
    "    \n",
    "    \n",
    "    fighter_one = soup.find_all('a', href=lambda x: x and x.startswith('fighter'))[0].get_text(strip=True).replace(u'\\xa0',' ')\n",
    "    fighter_two = soup.find_all('a', href=lambda x: x and x.startswith('fighter'))[1].get_text(strip=True).replace(u'\\xa0',' ')\n",
    "\n",
    "\n",
    "    #Date stuff\n",
    "    td_element = soup.find('td', class_='decision-top2')\n",
    "    if td_element:\n",
    "        # Extract text and split by line breaks\n",
    "        text_lines = td_element.get_text(separator=\"\\n\").split(\"\\n\")\n",
    "        # Assuming the date is always the line after the event title\n",
    "        date_line = text_lines[4] if len(text_lines) > 1 else \"Date not found\"\n",
    "        # Clean up any excess whitespace\n",
    "        date = \" \".join(date_line.split())\n",
    "        # print(date)\n",
    "\n",
    "    # Judge Stuff\n",
    "    judges = soup.find_all('td', class_='judge')\n",
    "    # Extract the names of the judges\n",
    "    judge_names = [judge.get_text().replace(u'\\xa0', u' ') for judge in judges]  # Replace non-breaking spaces with regular spaces\n",
    "    judge_names = [judge_names[i].replace('\\n', '') for i in range(len(judges))]\n",
    "    judge_names\n",
    "\n",
    "\n",
    "    #score stuff\n",
    "    scores_dict = {}\n",
    "\n",
    "    # Iterate over each judge's table\n",
    "    judges_tables = soup.find_all('table', style=\"border-spacing: 1px; width: 100%\")\n",
    "    for judge_index, table in enumerate(judges_tables, start=1):\n",
    "        # Get all the score rows for this judge\n",
    "        score_rows = table.find_all('tr', class_='decision')\n",
    "        for row in score_rows:\n",
    "            round_number, score_fighter1, score_fighter2 = [td.get_text() for td in row.find_all('td', class_='list')]\n",
    "            scores_dict[f\"Judge {judge_index} Fighter 1 Round {round_number}\"] = [score_fighter1]\n",
    "            scores_dict[f\"Judge {judge_index} Fighter 2 Round {round_number}\"] = [score_fighter2]\n",
    "\n",
    "    # Create a DataFrame\n",
    "    scores_df = pd.DataFrame(scores_dict)\n",
    "    scores_df['Date'] = date\n",
    "    scores_df['Fighter 1'] = fighter_one\n",
    "    scores_df['Fighter 2'] = fighter_two\n",
    "    scores_df['Judge 1'] = judge_names[0]\n",
    "    scores_df['Judge 2'] = judge_names[1]\n",
    "    scores_df['Judge 3'] = judge_names[2]\n",
    "    return scores_df"
   ]
  },
  {
   "cell_type": "code",
   "execution_count": 19,
   "id": "47989638-3d6c-42b0-9c00-eb798fcd77d0",
   "metadata": {
    "tags": []
   },
   "outputs": [],
   "source": [
    "all_info = pd.DataFrame()\n",
    "i=1\n"
   ]
  },
  {
   "cell_type": "code",
   "execution_count": null,
   "id": "2cccbefa-1303-422a-906d-ebeb0919020f",
   "metadata": {
    "tags": []
   },
   "outputs": [
    {
     "name": "stdout",
     "output_type": "stream",
     "text": [
      "2470\n",
      "2480\n",
      "2490\n",
      "2500\n",
      "2510\n",
      "2520\n",
      "2530\n",
      "2540\n",
      "2550\n",
      "2560\n",
      "2570\n",
      "2580\n",
      "2590\n",
      "2600\n",
      "2610\n",
      "2620\n",
      "2630\n",
      "2640\n",
      "2650\n",
      "2660\n",
      "2670\n",
      "2680\n",
      "2690\n",
      "2700\n",
      "2710\n",
      "2720\n",
      "2730\n",
      "2740\n"
     ]
    }
   ],
   "source": [
    "for url in URLS['0'][2460:]:\n",
    "    all_info = pd.concat([all_info,grab_info_from_link(url)])\n",
    "    i+=1\n",
    "    if(i%10==0):\n",
    "        print(i)"
   ]
  },
  {
   "cell_type": "code",
   "execution_count": null,
   "id": "444b550c-900d-4857-b1be-70d5acca3508",
   "metadata": {
    "tags": []
   },
   "outputs": [],
   "source": [
    "all_info"
   ]
  },
  {
   "cell_type": "code",
   "execution_count": 27,
   "id": "d1688ed6-4b2d-4b5d-b22b-fe2d03daf4ab",
   "metadata": {
    "tags": []
   },
   "outputs": [
    {
     "data": {
      "text/plain": [
       "0       http://mmadecisions.com/decision/14510/Jack-He...\n",
       "1       http://mmadecisions.com/decision/14508/Ihor-Po...\n",
       "2       http://mmadecisions.com/decision/14506/Michael...\n",
       "3       http://mmadecisions.com/decision/14503/Bolaji-...\n",
       "4       http://mmadecisions.com/decision/14502/Loma-Lo...\n",
       "                              ...                        \n",
       "3152    http://mmadecisions.com/decision/97/Sam-Adkins...\n",
       "3153    http://mmadecisions.com/decision/95/Dan-Severn...\n",
       "3154    http://mmadecisions.com/decision/78/Paul-Varel...\n",
       "3155    http://mmadecisions.com/decision/74/Ken-Shamro...\n",
       "3156    http://mmadecisions.com/decision/54/Ken-Shamro...\n",
       "Name: 0, Length: 3157, dtype: object"
      ]
     },
     "execution_count": 27,
     "metadata": {},
     "output_type": "execute_result"
    }
   ],
   "source": [
    "URLS['0']"
   ]
  }
 ],
 "metadata": {
  "kernelspec": {
   "display_name": "Python 3 (ipykernel)",
   "language": "python",
   "name": "python3"
  },
  "language_info": {
   "codemirror_mode": {
    "name": "ipython",
    "version": 3
   },
   "file_extension": ".py",
   "mimetype": "text/x-python",
   "name": "python",
   "nbconvert_exporter": "python",
   "pygments_lexer": "ipython3",
   "version": "3.11.5"
  }
 },
 "nbformat": 4,
 "nbformat_minor": 5
}
