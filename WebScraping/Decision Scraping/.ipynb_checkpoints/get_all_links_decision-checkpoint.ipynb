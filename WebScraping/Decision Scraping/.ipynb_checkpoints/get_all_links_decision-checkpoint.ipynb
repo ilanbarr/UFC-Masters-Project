{
 "cells": [
  {
   "cell_type": "code",
   "execution_count": 53,
   "id": "432dde72-405b-4894-b4cc-d51e561a7d91",
   "metadata": {
    "tags": []
   },
   "outputs": [],
   "source": [
    "import requests\n",
    "from bs4 import BeautifulSoup\n",
    "from urllib.parse import urljoin\n",
    "\n",
    "def fetch_event_links(url):\n",
    "    response = requests.get(url)\n",
    "    soup = BeautifulSoup(response.content, 'html.parser')\n",
    "    \n",
    "    tables = soup.find_all('table')\n",
    "    if len(tables) > 1:  \n",
    "        event_table = tables[1]  # Assuming the events are in the second table\n",
    "    else:\n",
    "        print(\"Events table not found.\")\n",
    "        return []\n",
    "\n",
    "    links = []\n",
    "    for row in event_table.find_all('tr', class_='decision'):\n",
    "        cell = row.find('td', class_='list')\n",
    "        if cell and cell.find('a'):\n",
    "            link = cell.find('a')['href']\n",
    "            # Ensure the base URL is correctly set for urljoin\n",
    "            # If the extracted link is not a full URL, join it with the base URL correctly\n",
    "            full_link = urljoin('http://mmadecisions.com/', link)\n",
    "            links.append(full_link)\n",
    "    \n",
    "    return links\n"
   ]
  },
  {
   "cell_type": "code",
   "execution_count": 54,
   "id": "e8694820-2f6d-4e0d-89fb-0c8059f6189f",
   "metadata": {
    "tags": []
   },
   "outputs": [
    {
     "data": {
      "text/plain": [
       "['http://mmadecisions.com/event/1439/UFC-on-ESPN+-94-Hermansson-vs-Pyfer',\n",
       " 'http://mmadecisions.com/event/1438/UFC-on-ESPN+-93-Dolidze-vs-Imavov',\n",
       " 'http://mmadecisions.com/event/1436/UFC-297-Strickland-vs-du-Plessis',\n",
       " 'http://mmadecisions.com/event/1437/KSW-90-Wrzosek-vs-Vitasovic',\n",
       " 'http://mmadecisions.com/event/1435/UFC-on-ESPN+-92-Ankalaev-vs-Walker-2']"
      ]
     },
     "execution_count": 54,
     "metadata": {},
     "output_type": "execute_result"
    }
   ],
   "source": [
    "fetch_event_links('http://mmadecisions.com/decisions-by-event/2024/')"
   ]
  },
  {
   "cell_type": "code",
   "execution_count": 55,
   "id": "c9ca6fbc-5d31-467e-ad61-51ca9e67d777",
   "metadata": {
    "tags": []
   },
   "outputs": [
    {
     "name": "stdout",
     "output_type": "stream",
     "text": [
      "Links for 2024:\n",
      "Links for 2023:\n",
      "Links for 2022:\n",
      "Links for 2021:\n",
      "Links for 2020:\n",
      "Links for 2019:\n",
      "Links for 2018:\n",
      "Links for 2017:\n",
      "Links for 2016:\n",
      "Links for 2015:\n",
      "Links for 2014:\n",
      "Links for 2013:\n",
      "Links for 2012:\n",
      "Links for 2011:\n",
      "Links for 2010:\n",
      "Links for 2009:\n",
      "Links for 2008:\n",
      "Links for 2007:\n",
      "Links for 2006:\n",
      "Links for 2005:\n",
      "Links for 2004:\n",
      "Links for 2003:\n",
      "Links for 2002:\n",
      "Links for 2001:\n",
      "Links for 2000:\n",
      "Links for 1999:\n",
      "Links for 1998:\n",
      "Links for 1997:\n",
      "Links for 1996:\n",
      "Links for 1995:\n"
     ]
    }
   ],
   "source": [
    "base_url = \"http://mmadecisions.com/decisions-by-event/\"\n",
    "event_url_list = []\n",
    "for year in range(2024, 1994, -1):  # Loop from 2023 to 1995\n",
    "    url = f\"{base_url}{year}/\"\n",
    "    links = fetch_event_links(url)\n",
    "    \n",
    "    print(f\"Links for {year}:\")\n",
    "    for link in links:\n",
    "        event_url_list.append(link)\n",
    "        # print(link)\n",
    "    # print(\"---\")\n"
   ]
  },
  {
   "cell_type": "code",
   "execution_count": 57,
   "id": "8d2dd86e-a887-474c-8193-2ef2ef1d1f88",
   "metadata": {
    "tags": []
   },
   "outputs": [
    {
     "data": {
      "text/plain": [
       "1410"
      ]
     },
     "execution_count": 57,
     "metadata": {},
     "output_type": "execute_result"
    }
   ],
   "source": [
    "import pandas as pd\n",
    "len(pd.DataFrame(event_url_list)[0].unique())\n",
    "# event_url_list"
   ]
  },
  {
   "cell_type": "code",
   "execution_count": 58,
   "id": "ee40705f-a35e-4631-a162-5db8ddb6812f",
   "metadata": {
    "tags": []
   },
   "outputs": [],
   "source": [
    "from bs4 import BeautifulSoup\n",
    "import requests\n",
    "\n",
    "# Example URL\n",
    "def get_fight_links(event_url):\n",
    "    response = requests.get(event_url)\n",
    "    soup = BeautifulSoup(response.content, 'html.parser')\n",
    "    base_url = \"http://mmadecisions.com/\"\n",
    "    decision_links = soup.find_all('a', href=lambda href: href and \"decision/\" in href)\n",
    "    full_urls = [base_url + link['href'].strip() for link in decision_links]\n",
    "    return full_urls"
   ]
  },
  {
   "cell_type": "code",
   "execution_count": 59,
   "id": "77e52c55-2ce7-4357-967d-0096ca08478c",
   "metadata": {
    "tags": []
   },
   "outputs": [
    {
     "data": {
      "text/plain": [
       "['http://mmadecisions.com/decision/14496/Nassourdine-Imavov-vs-Roman-Dolidze',\n",
       " 'http://mmadecisions.com/decision/14495/Renato-Moicano-vs-Drew-Dober',\n",
       " 'http://mmadecisions.com/decision/14493/Natalia-Silva-vs-Viviane-Araujo',\n",
       " 'http://mmadecisions.com/decision/14489/Charles-Johnson-vs-Azat-Maksum',\n",
       " 'http://mmadecisions.com/decision/14487/Jeong-yeong-Lee-vs-Blake-Bilder',\n",
       " 'http://mmadecisions.com/decision/14485/MarQuel-Mederos-vs-Landon-Quinones',\n",
       " 'http://mmadecisions.com/decision/14484/Jamal-Pogues-vs-Thomas-Petersen']"
      ]
     },
     "execution_count": 59,
     "metadata": {},
     "output_type": "execute_result"
    }
   ],
   "source": [
    "get_fight_links('http://mmadecisions.com/event/1438/UFC-on-ESPN+-93-Dolidze-vs-Imavov')"
   ]
  },
  {
   "cell_type": "code",
   "execution_count": 48,
   "id": "ce83fcf5-8845-4a2f-8ddd-886a759fbdc9",
   "metadata": {
    "tags": []
   },
   "outputs": [
    {
     "data": {
      "text/plain": [
       "'http://mmadecisions.com/decisions-by-event/2013/event/404/UFC-on-FX-7-Belfort-vs-Bisping'"
      ]
     },
     "execution_count": 48,
     "metadata": {},
     "output_type": "execute_result"
    }
   ],
   "source": [
    "event_url_list[1000]"
   ]
  },
  {
   "cell_type": "code",
   "execution_count": 49,
   "id": "b1c3aa07-1910-4776-bf17-b013f06f60c2",
   "metadata": {
    "tags": []
   },
   "outputs": [
    {
     "data": {
      "text/plain": [
       "[]"
      ]
     },
     "execution_count": 49,
     "metadata": {},
     "output_type": "execute_result"
    }
   ],
   "source": [
    "get_fight_links('http://mmadecisions.com/decisions-by-event/2013/event/404/UFC-on-FX-7-Belfort-vs-Bisping')"
   ]
  },
  {
   "cell_type": "code",
   "execution_count": 61,
   "id": "4d877e8e-ec61-424e-8ba9-d15eac8030f3",
   "metadata": {
    "tags": []
   },
   "outputs": [],
   "source": [
    "all_fight_links= []\n",
    "\n",
    "for event_url in event_url_list:\n",
    "    links = get_fight_links(event_url)\n",
    "    for link in links:\n",
    "        # print(link)\n",
    "        all_fight_links.append(link)\n",
    "        \n",
    "    "
   ]
  },
  {
   "cell_type": "code",
   "execution_count": 63,
   "id": "23642712-3d3c-42e0-8cf0-3ab176368a63",
   "metadata": {
    "tags": []
   },
   "outputs": [
    {
     "data": {
      "text/plain": [
       "6464"
      ]
     },
     "execution_count": 63,
     "metadata": {},
     "output_type": "execute_result"
    }
   ],
   "source": []
  },
  {
   "cell_type": "code",
   "execution_count": 77,
   "id": "931cf774-4101-4ccb-86c6-56f8cf8666ce",
   "metadata": {
    "tags": []
   },
   "outputs": [],
   "source": []
  },
  {
   "cell_type": "code",
   "execution_count": null,
   "id": "64e7aa83-d3a7-4df2-b2ab-477a577280ef",
   "metadata": {},
   "outputs": [],
   "source": []
  },
  {
   "cell_type": "code",
   "execution_count": 66,
   "id": "5be9e631-bde3-43ff-85f9-68a693811fe4",
   "metadata": {
    "tags": []
   },
   "outputs": [],
   "source": [
    "pd.DataFrame(all_fight_links).to_csv('all_fight_decision_links.csv')"
   ]
  },
  {
   "cell_type": "code",
   "execution_count": null,
   "id": "1acb84b4-059d-46f3-adbd-d28353359d61",
   "metadata": {},
   "outputs": [],
   "source": []
  }
 ],
 "metadata": {
  "kernelspec": {
   "display_name": "Python 3 (ipykernel)",
   "language": "python",
   "name": "python3"
  },
  "language_info": {
   "codemirror_mode": {
    "name": "ipython",
    "version": 3
   },
   "file_extension": ".py",
   "mimetype": "text/x-python",
   "name": "python",
   "nbconvert_exporter": "python",
   "pygments_lexer": "ipython3",
   "version": "3.11.5"
  }
 },
 "nbformat": 4,
 "nbformat_minor": 5
}
