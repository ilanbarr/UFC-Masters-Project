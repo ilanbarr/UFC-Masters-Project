{
 "cells": [
  {
   "cell_type": "code",
   "execution_count": 1,
   "id": "e3c5ed15-6a29-4042-827f-7461baf211d7",
   "metadata": {
    "tags": []
   },
   "outputs": [],
   "source": [
    "import pandas as pd"
   ]
  },
  {
   "cell_type": "code",
   "execution_count": 2,
   "id": "df2e1cf9-81f6-4e0d-a203-e0b46f2f4aa4",
   "metadata": {
    "tags": []
   },
   "outputs": [],
   "source": [
    "df1 = pd.read_csv('all_fight_data(1-200).csv')"
   ]
  },
  {
   "cell_type": "code",
   "execution_count": 3,
   "id": "c1e3f37e-0ebc-48ba-b51e-fecbb7abdb43",
   "metadata": {
    "tags": []
   },
   "outputs": [],
   "source": [
    "df2 = pd.read_csv('all_fight_data(200-2900).csv')"
   ]
  },
  {
   "cell_type": "code",
   "execution_count": 4,
   "id": "102e888f-40fc-457a-b38a-019083c7bf1f",
   "metadata": {
    "tags": []
   },
   "outputs": [],
   "source": [
    "df3 = pd.read_csv('all_fight_data(3090-4020).csv')"
   ]
  },
  {
   "cell_type": "code",
   "execution_count": 5,
   "id": "e1117e82-0d4e-48ee-a209-a21440bc481c",
   "metadata": {
    "tags": []
   },
   "outputs": [],
   "source": [
    "df4 = pd.read_csv('all_fight_data(4020-6350).csv')"
   ]
  },
  {
   "cell_type": "code",
   "execution_count": 6,
   "id": "ddd78257-be7f-4a71-a4d8-84839b4780cc",
   "metadata": {
    "tags": []
   },
   "outputs": [],
   "source": [
    "df5 = pd.read_csv('all_fight_data(6350-finish).csv')"
   ]
  },
  {
   "cell_type": "code",
   "execution_count": 7,
   "id": "2178105e-296c-409a-bf60-cb430e49490f",
   "metadata": {
    "tags": []
   },
   "outputs": [],
   "source": [
    "df_all = pd.concat([df1,df2,df3,df4,df5])"
   ]
  },
  {
   "cell_type": "code",
   "execution_count": 8,
   "id": "b45df5c3-a946-4833-ab0a-33c6d3ff1ecf",
   "metadata": {
    "tags": []
   },
   "outputs": [
    {
     "data": {
      "text/plain": [
       "6337"
      ]
     },
     "execution_count": 8,
     "metadata": {},
     "output_type": "execute_result"
    }
   ],
   "source": [
    "len(df_all['URL'].unique())"
   ]
  },
  {
   "cell_type": "code",
   "execution_count": 9,
   "id": "6f8468ab-c14d-4103-80e2-6836b5bcb1c9",
   "metadata": {
    "tags": []
   },
   "outputs": [],
   "source": [
    "df_all.to_pickle('All_Fight_Round_data.pkl')"
   ]
  }
 ],
 "metadata": {
  "kernelspec": {
   "display_name": "Python 3 (ipykernel)",
   "language": "python",
   "name": "python3"
  },
  "language_info": {
   "codemirror_mode": {
    "name": "ipython",
    "version": 3
   },
   "file_extension": ".py",
   "mimetype": "text/x-python",
   "name": "python",
   "nbconvert_exporter": "python",
   "pygments_lexer": "ipython3",
   "version": "3.11.5"
  }
 },
 "nbformat": 4,
 "nbformat_minor": 5
}
